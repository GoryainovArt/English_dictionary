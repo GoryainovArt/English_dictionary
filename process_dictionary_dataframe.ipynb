{
 "cells": [
  {
   "cell_type": "code",
   "execution_count": 4,
   "id": "92758c0f",
   "metadata": {},
   "outputs": [],
   "source": [
    "import pandas as pd\n",
    "df = pd.read_csv('C:/Users/Home PC/Desktop/Word game/dictionary_2.TXT', sep = '@')\n",
    "#english_word,russian_word"
   ]
  },
  {
   "cell_type": "code",
   "execution_count": 5,
   "id": "4eeb064c",
   "metadata": {},
   "outputs": [
    {
     "data": {
      "text/html": [
       "<div>\n",
       "<style scoped>\n",
       "    .dataframe tbody tr th:only-of-type {\n",
       "        vertical-align: middle;\n",
       "    }\n",
       "\n",
       "    .dataframe tbody tr th {\n",
       "        vertical-align: top;\n",
       "    }\n",
       "\n",
       "    .dataframe thead th {\n",
       "        text-align: right;\n",
       "    }\n",
       "</style>\n",
       "<table border=\"1\" class=\"dataframe\">\n",
       "  <thead>\n",
       "    <tr style=\"text-align: right;\">\n",
       "      <th></th>\n",
       "      <th>english_word</th>\n",
       "      <th>transcription</th>\n",
       "      <th>russian_word</th>\n",
       "    </tr>\n",
       "  </thead>\n",
       "  <tbody>\n",
       "    <tr>\n",
       "      <th>0</th>\n",
       "      <td>ab-</td>\n",
       "      <td>NaN</td>\n",
       "      <td>, словах, с общим значением удаления</td>\n",
       "    </tr>\n",
       "    <tr>\n",
       "      <th>1</th>\n",
       "      <td>ab-unit</td>\n",
       "      <td>NaN</td>\n",
       "      <td>абсолютная единица системы СГСЭ или СГСМ,</td>\n",
       "    </tr>\n",
       "    <tr>\n",
       "      <th>2</th>\n",
       "      <td>aba</td>\n",
       "      <td>NaN</td>\n",
       "      <td>аба, свободная верхняя одежда из верблюжьей ил...</td>\n",
       "    </tr>\n",
       "    <tr>\n",
       "      <th>3</th>\n",
       "      <td>abaca</td>\n",
       "      <td>[ɑːbɑːˈkɑː]</td>\n",
       "      <td>абака</td>\n",
       "    </tr>\n",
       "    <tr>\n",
       "      <th>4</th>\n",
       "      <td>abaci</td>\n",
       "      <td>[ˈæbəsaɪ]</td>\n",
       "      <td>счеты, абак, абака, мозаичная панель, номограмма</td>\n",
       "    </tr>\n",
       "    <tr>\n",
       "      <th>...</th>\n",
       "      <td>...</td>\n",
       "      <td>...</td>\n",
       "      <td>...</td>\n",
       "    </tr>\n",
       "    <tr>\n",
       "      <th>86055</th>\n",
       "      <td>zymurgy</td>\n",
       "      <td>NaN</td>\n",
       "      <td>технология бродильных производств</td>\n",
       "    </tr>\n",
       "    <tr>\n",
       "      <th>86056</th>\n",
       "      <td>zhdanov</td>\n",
       "      <td>NaN</td>\n",
       "      <td>Жданов, ждановский</td>\n",
       "    </tr>\n",
       "    <tr>\n",
       "      <th>86057</th>\n",
       "      <td>zloty</td>\n",
       "      <td>NaN</td>\n",
       "      <td>злотый, злотый, национальная валюта Польши</td>\n",
       "    </tr>\n",
       "    <tr>\n",
       "      <th>86058</th>\n",
       "      <td>zwieback</td>\n",
       "      <td>NaN</td>\n",
       "      <td>сухарь, галета, сдобный сухарь</td>\n",
       "    </tr>\n",
       "    <tr>\n",
       "      <th>86059</th>\n",
       "      <td>zwitterion</td>\n",
       "      <td>NaN</td>\n",
       "      <td>ион, амфотерный ион, амфион</td>\n",
       "    </tr>\n",
       "  </tbody>\n",
       "</table>\n",
       "<p>86060 rows × 3 columns</p>\n",
       "</div>"
      ],
      "text/plain": [
       "      english_word transcription  \\\n",
       "0              ab-           NaN   \n",
       "1          ab-unit           NaN   \n",
       "2              aba           NaN   \n",
       "3            abaca   [ɑːbɑːˈkɑː]   \n",
       "4            abaci     [ˈæbəsaɪ]   \n",
       "...            ...           ...   \n",
       "86055      zymurgy           NaN   \n",
       "86056      zhdanov           NaN   \n",
       "86057        zloty           NaN   \n",
       "86058     zwieback           NaN   \n",
       "86059   zwitterion           NaN   \n",
       "\n",
       "                                            russian_word  \n",
       "0                   , словах, с общим значением удаления  \n",
       "1             абсолютная единица системы СГСЭ или СГСМ,   \n",
       "2      аба, свободная верхняя одежда из верблюжьей ил...  \n",
       "3                                                  абака  \n",
       "4       счеты, абак, абака, мозаичная панель, номограмма  \n",
       "...                                                  ...  \n",
       "86055                  технология бродильных производств  \n",
       "86056                                 Жданов, ждановский  \n",
       "86057         злотый, злотый, национальная валюта Польши  \n",
       "86058                     сухарь, галета, сдобный сухарь  \n",
       "86059                        ион, амфотерный ион, амфион  \n",
       "\n",
       "[86060 rows x 3 columns]"
      ]
     },
     "execution_count": 5,
     "metadata": {},
     "output_type": "execute_result"
    }
   ],
   "source": [
    "df"
   ]
  },
  {
   "cell_type": "code",
   "execution_count": 13,
   "id": "f47b7d58",
   "metadata": {},
   "outputs": [],
   "source": [
    "df.to_csv('C:/Users/Home PC/Desktop/Word game/dictionary_2.csv', index = False)"
   ]
  },
  {
   "cell_type": "code",
   "execution_count": 13,
   "id": "dbe780ab",
   "metadata": {},
   "outputs": [],
   "source": [
    "import pandas as pd\n",
    "df = pd.read_csv('C:/Users/Home PC/Desktop/Word game/dictionary.TXT', sep = '@')"
   ]
  },
  {
   "cell_type": "code",
   "execution_count": 14,
   "id": "294cc970",
   "metadata": {},
   "outputs": [
    {
     "data": {
      "text/html": [
       "<div>\n",
       "<style scoped>\n",
       "    .dataframe tbody tr th:only-of-type {\n",
       "        vertical-align: middle;\n",
       "    }\n",
       "\n",
       "    .dataframe tbody tr th {\n",
       "        vertical-align: top;\n",
       "    }\n",
       "\n",
       "    .dataframe thead th {\n",
       "        text-align: right;\n",
       "    }\n",
       "</style>\n",
       "<table border=\"1\" class=\"dataframe\">\n",
       "  <thead>\n",
       "    <tr style=\"text-align: right;\">\n",
       "      <th></th>\n",
       "      <th>english_word</th>\n",
       "      <th>russian_word</th>\n",
       "    </tr>\n",
       "  </thead>\n",
       "  <tbody>\n",
       "    <tr>\n",
       "      <th>0</th>\n",
       "      <td>a few</td>\n",
       "      <td>несколько</td>\n",
       "    </tr>\n",
       "    <tr>\n",
       "      <th>1</th>\n",
       "      <td>a little</td>\n",
       "      <td>немного</td>\n",
       "    </tr>\n",
       "    <tr>\n",
       "      <th>2</th>\n",
       "      <td>a sprinkling</td>\n",
       "      <td>немного</td>\n",
       "    </tr>\n",
       "    <tr>\n",
       "      <th>3</th>\n",
       "      <td>a table</td>\n",
       "      <td>стол\\t(10 roubles ~ dozen) десять рублей дюжина</td>\n",
       "    </tr>\n",
       "    <tr>\n",
       "      <th>4</th>\n",
       "      <td>a trifle</td>\n",
       "      <td>немножко</td>\n",
       "    </tr>\n",
       "    <tr>\n",
       "      <th>...</th>\n",
       "      <td>...</td>\n",
       "      <td>...</td>\n",
       "    </tr>\n",
       "    <tr>\n",
       "      <th>51376</th>\n",
       "      <td>zooming</td>\n",
       "      <td>изменять масштаб изображения\\tнаплыв</td>\n",
       "    </tr>\n",
       "    <tr>\n",
       "      <th>51377</th>\n",
       "      <td>zorch</td>\n",
       "      <td>прокачивать</td>\n",
       "    </tr>\n",
       "    <tr>\n",
       "      <th>51378</th>\n",
       "      <td>zulu</td>\n",
       "      <td>зулус\\tзулусский</td>\n",
       "    </tr>\n",
       "    <tr>\n",
       "      <th>51379</th>\n",
       "      <td>zwieback</td>\n",
       "      <td>сухарь</td>\n",
       "    </tr>\n",
       "    <tr>\n",
       "      <th>51380</th>\n",
       "      <td>zygote</td>\n",
       "      <td>зигота</td>\n",
       "    </tr>\n",
       "  </tbody>\n",
       "</table>\n",
       "<p>51381 rows × 2 columns</p>\n",
       "</div>"
      ],
      "text/plain": [
       "       english_word                                     russian_word\n",
       "0             a few                                        несколько\n",
       "1          a little                                          немного\n",
       "2      a sprinkling                                          немного\n",
       "3           a table  стол\\t(10 roubles ~ dozen) десять рублей дюжина\n",
       "4          a trifle                                         немножко\n",
       "...             ...                                              ...\n",
       "51376       zooming             изменять масштаб изображения\\tнаплыв\n",
       "51377         zorch                                      прокачивать\n",
       "51378          zulu                                 зулус\\tзулусский\n",
       "51379      zwieback                                           сухарь\n",
       "51380        zygote                                           зигота\n",
       "\n",
       "[51381 rows x 2 columns]"
      ]
     },
     "execution_count": 14,
     "metadata": {},
     "output_type": "execute_result"
    }
   ],
   "source": [
    "df"
   ]
  },
  {
   "cell_type": "code",
   "execution_count": 79,
   "id": "063c6a9f",
   "metadata": {},
   "outputs": [],
   "source": [
    "df.to_csv('C:/Users/Home PC/Desktop/Word game/dictionary.csv', index = False)"
   ]
  },
  {
   "cell_type": "code",
   "execution_count": 81,
   "id": "c117b8d0",
   "metadata": {},
   "outputs": [],
   "source": [
    "df_2 = pd.read_csv('C:/Users/Home PC/Desktop/Word game/dictionary.csv',sep=',')"
   ]
  },
  {
   "cell_type": "code",
   "execution_count": 82,
   "id": "4cb0267d",
   "metadata": {},
   "outputs": [
    {
     "data": {
      "text/html": [
       "<div>\n",
       "<style scoped>\n",
       "    .dataframe tbody tr th:only-of-type {\n",
       "        vertical-align: middle;\n",
       "    }\n",
       "\n",
       "    .dataframe tbody tr th {\n",
       "        vertical-align: top;\n",
       "    }\n",
       "\n",
       "    .dataframe thead th {\n",
       "        text-align: right;\n",
       "    }\n",
       "</style>\n",
       "<table border=\"1\" class=\"dataframe\">\n",
       "  <thead>\n",
       "    <tr style=\"text-align: right;\">\n",
       "      <th></th>\n",
       "      <th>english_word</th>\n",
       "      <th>russian_word</th>\n",
       "    </tr>\n",
       "  </thead>\n",
       "  <tbody>\n",
       "    <tr>\n",
       "      <th>0</th>\n",
       "      <td>a few</td>\n",
       "      <td>несколько</td>\n",
       "    </tr>\n",
       "    <tr>\n",
       "      <th>1</th>\n",
       "      <td>a little</td>\n",
       "      <td>немного</td>\n",
       "    </tr>\n",
       "    <tr>\n",
       "      <th>2</th>\n",
       "      <td>a sprinkling</td>\n",
       "      <td>немного</td>\n",
       "    </tr>\n",
       "    <tr>\n",
       "      <th>3</th>\n",
       "      <td>a table</td>\n",
       "      <td>стол\\t(10 roubles ~ dozen) десять рублей дюжина</td>\n",
       "    </tr>\n",
       "    <tr>\n",
       "      <th>4</th>\n",
       "      <td>a trifle</td>\n",
       "      <td>немножко</td>\n",
       "    </tr>\n",
       "    <tr>\n",
       "      <th>...</th>\n",
       "      <td>...</td>\n",
       "      <td>...</td>\n",
       "    </tr>\n",
       "    <tr>\n",
       "      <th>51375</th>\n",
       "      <td>zooming</td>\n",
       "      <td>изменять масштаб изображения\\tнаплыв</td>\n",
       "    </tr>\n",
       "    <tr>\n",
       "      <th>51376</th>\n",
       "      <td>zorch</td>\n",
       "      <td>прокачивать</td>\n",
       "    </tr>\n",
       "    <tr>\n",
       "      <th>51377</th>\n",
       "      <td>zulu</td>\n",
       "      <td>зулус\\tзулусский</td>\n",
       "    </tr>\n",
       "    <tr>\n",
       "      <th>51378</th>\n",
       "      <td>zwieback</td>\n",
       "      <td>сухарь</td>\n",
       "    </tr>\n",
       "    <tr>\n",
       "      <th>51379</th>\n",
       "      <td>zygote</td>\n",
       "      <td>зигота</td>\n",
       "    </tr>\n",
       "  </tbody>\n",
       "</table>\n",
       "<p>51380 rows × 2 columns</p>\n",
       "</div>"
      ],
      "text/plain": [
       "       english_word                                     russian_word\n",
       "0             a few                                        несколько\n",
       "1          a little                                          немного\n",
       "2      a sprinkling                                          немного\n",
       "3           a table  стол\\t(10 roubles ~ dozen) десять рублей дюжина\n",
       "4          a trifle                                         немножко\n",
       "...             ...                                              ...\n",
       "51375       zooming             изменять масштаб изображения\\tнаплыв\n",
       "51376         zorch                                      прокачивать\n",
       "51377          zulu                                 зулус\\tзулусский\n",
       "51378      zwieback                                           сухарь\n",
       "51379        zygote                                           зигота\n",
       "\n",
       "[51380 rows x 2 columns]"
      ]
     },
     "execution_count": 82,
     "metadata": {},
     "output_type": "execute_result"
    }
   ],
   "source": [
    "df_2"
   ]
  },
  {
   "cell_type": "code",
   "execution_count": 17,
   "id": "5434d86c",
   "metadata": {},
   "outputs": [
    {
     "data": {
      "text/html": [
       "<div>\n",
       "<style scoped>\n",
       "    .dataframe tbody tr th:only-of-type {\n",
       "        vertical-align: middle;\n",
       "    }\n",
       "\n",
       "    .dataframe tbody tr th {\n",
       "        vertical-align: top;\n",
       "    }\n",
       "\n",
       "    .dataframe thead th {\n",
       "        text-align: right;\n",
       "    }\n",
       "</style>\n",
       "<table border=\"1\" class=\"dataframe\">\n",
       "  <thead>\n",
       "    <tr style=\"text-align: right;\">\n",
       "      <th></th>\n",
       "      <th>english_word</th>\n",
       "      <th>russian_word</th>\n",
       "    </tr>\n",
       "  </thead>\n",
       "  <tbody>\n",
       "    <tr>\n",
       "      <th>51380</th>\n",
       "      <td>zygote</td>\n",
       "      <td>зигота</td>\n",
       "    </tr>\n",
       "  </tbody>\n",
       "</table>\n",
       "</div>"
      ],
      "text/plain": [
       "      english_word russian_word\n",
       "51380       zygote       зигота"
      ]
     },
     "execution_count": 17,
     "metadata": {},
     "output_type": "execute_result"
    }
   ],
   "source": [
    "df[df['english_word'] == 'zygote']"
   ]
  },
  {
   "cell_type": "code",
   "execution_count": 11,
   "id": "d0bed1b3",
   "metadata": {},
   "outputs": [
    {
     "data": {
      "text/plain": [
       "english_word                             null-space\n",
       "transcription                                   NaN\n",
       "russian_word     пространство, нулевое пространство\n",
       "Name: 51805, dtype: object"
      ]
     },
     "execution_count": 11,
     "metadata": {},
     "output_type": "execute_result"
    }
   ],
   "source": [
    "df.iloc[51805]"
   ]
  },
  {
   "cell_type": "code",
   "execution_count": 12,
   "id": "1784e099",
   "metadata": {},
   "outputs": [],
   "source": [
    "df = df[df['english_word'].notna()]\n",
    "#51381 "
   ]
  },
  {
   "cell_type": "code",
   "execution_count": 26,
   "id": "3e5e3488",
   "metadata": {},
   "outputs": [
    {
     "data": {
      "text/html": [
       "<div>\n",
       "<style scoped>\n",
       "    .dataframe tbody tr th:only-of-type {\n",
       "        vertical-align: middle;\n",
       "    }\n",
       "\n",
       "    .dataframe tbody tr th {\n",
       "        vertical-align: top;\n",
       "    }\n",
       "\n",
       "    .dataframe thead th {\n",
       "        text-align: right;\n",
       "    }\n",
       "</style>\n",
       "<table border=\"1\" class=\"dataframe\">\n",
       "  <thead>\n",
       "    <tr style=\"text-align: right;\">\n",
       "      <th></th>\n",
       "      <th>english_word</th>\n",
       "      <th>russian_word</th>\n",
       "    </tr>\n",
       "  </thead>\n",
       "  <tbody>\n",
       "    <tr>\n",
       "      <th>0</th>\n",
       "      <td>a few</td>\n",
       "      <td>несколько</td>\n",
       "    </tr>\n",
       "    <tr>\n",
       "      <th>1</th>\n",
       "      <td>a little</td>\n",
       "      <td>немного</td>\n",
       "    </tr>\n",
       "    <tr>\n",
       "      <th>2</th>\n",
       "      <td>a sprinkling</td>\n",
       "      <td>немного</td>\n",
       "    </tr>\n",
       "    <tr>\n",
       "      <th>3</th>\n",
       "      <td>a table</td>\n",
       "      <td>стол\\t(10 roubles ~ dozen) десять рублей дюжина</td>\n",
       "    </tr>\n",
       "    <tr>\n",
       "      <th>4</th>\n",
       "      <td>a trifle</td>\n",
       "      <td>немножко</td>\n",
       "    </tr>\n",
       "    <tr>\n",
       "      <th>...</th>\n",
       "      <td>...</td>\n",
       "      <td>...</td>\n",
       "    </tr>\n",
       "    <tr>\n",
       "      <th>51376</th>\n",
       "      <td>zooming</td>\n",
       "      <td>изменять масштаб изображения\\tнаплыв</td>\n",
       "    </tr>\n",
       "    <tr>\n",
       "      <th>51377</th>\n",
       "      <td>zorch</td>\n",
       "      <td>прокачивать</td>\n",
       "    </tr>\n",
       "    <tr>\n",
       "      <th>51378</th>\n",
       "      <td>zulu</td>\n",
       "      <td>зулус\\tзулусский</td>\n",
       "    </tr>\n",
       "    <tr>\n",
       "      <th>51379</th>\n",
       "      <td>zwieback</td>\n",
       "      <td>сухарь</td>\n",
       "    </tr>\n",
       "    <tr>\n",
       "      <th>51380</th>\n",
       "      <td>zygote</td>\n",
       "      <td>зигота</td>\n",
       "    </tr>\n",
       "  </tbody>\n",
       "</table>\n",
       "<p>51380 rows × 2 columns</p>\n",
       "</div>"
      ],
      "text/plain": [
       "       english_word                                     russian_word\n",
       "0             a few                                        несколько\n",
       "1          a little                                          немного\n",
       "2      a sprinkling                                          немного\n",
       "3           a table  стол\\t(10 roubles ~ dozen) десять рублей дюжина\n",
       "4          a trifle                                         немножко\n",
       "...             ...                                              ...\n",
       "51376       zooming             изменять масштаб изображения\\tнаплыв\n",
       "51377         zorch                                      прокачивать\n",
       "51378          zulu                                 зулус\\tзулусский\n",
       "51379      zwieback                                           сухарь\n",
       "51380        zygote                                           зигота\n",
       "\n",
       "[51380 rows x 2 columns]"
      ]
     },
     "execution_count": 26,
     "metadata": {},
     "output_type": "execute_result"
    }
   ],
   "source": [
    "df"
   ]
  },
  {
   "cell_type": "code",
   "execution_count": 31,
   "id": "1b3d4a57",
   "metadata": {},
   "outputs": [
    {
     "data": {
      "text/html": [
       "<div>\n",
       "<style scoped>\n",
       "    .dataframe tbody tr th:only-of-type {\n",
       "        vertical-align: middle;\n",
       "    }\n",
       "\n",
       "    .dataframe tbody tr th {\n",
       "        vertical-align: top;\n",
       "    }\n",
       "\n",
       "    .dataframe thead th {\n",
       "        text-align: right;\n",
       "    }\n",
       "</style>\n",
       "<table border=\"1\" class=\"dataframe\">\n",
       "  <thead>\n",
       "    <tr style=\"text-align: right;\">\n",
       "      <th></th>\n",
       "      <th>english_word</th>\n",
       "      <th>russian_word</th>\n",
       "    </tr>\n",
       "  </thead>\n",
       "  <tbody>\n",
       "    <tr>\n",
       "      <th>51264</th>\n",
       "      <td>zabaglione</td>\n",
       "      <td>десерт</td>\n",
       "    </tr>\n",
       "    <tr>\n",
       "      <th>51265</th>\n",
       "      <td>zagged</td>\n",
       "      <td>сворачивать</td>\n",
       "    </tr>\n",
       "    <tr>\n",
       "      <th>51266</th>\n",
       "      <td>zaire</td>\n",
       "      <td>заир</td>\n",
       "    </tr>\n",
       "    <tr>\n",
       "      <th>51267</th>\n",
       "      <td>zairian</td>\n",
       "      <td>заирец\\tзаирский</td>\n",
       "    </tr>\n",
       "    <tr>\n",
       "      <th>51268</th>\n",
       "      <td>zambezi</td>\n",
       "      <td>замбези</td>\n",
       "    </tr>\n",
       "    <tr>\n",
       "      <th>...</th>\n",
       "      <td>...</td>\n",
       "      <td>...</td>\n",
       "    </tr>\n",
       "    <tr>\n",
       "      <th>51376</th>\n",
       "      <td>zooming</td>\n",
       "      <td>изменять масштаб изображения\\tнаплыв</td>\n",
       "    </tr>\n",
       "    <tr>\n",
       "      <th>51377</th>\n",
       "      <td>zorch</td>\n",
       "      <td>прокачивать</td>\n",
       "    </tr>\n",
       "    <tr>\n",
       "      <th>51378</th>\n",
       "      <td>zulu</td>\n",
       "      <td>зулус\\tзулусский</td>\n",
       "    </tr>\n",
       "    <tr>\n",
       "      <th>51379</th>\n",
       "      <td>zwieback</td>\n",
       "      <td>сухарь</td>\n",
       "    </tr>\n",
       "    <tr>\n",
       "      <th>51380</th>\n",
       "      <td>zygote</td>\n",
       "      <td>зигота</td>\n",
       "    </tr>\n",
       "  </tbody>\n",
       "</table>\n",
       "<p>117 rows × 2 columns</p>\n",
       "</div>"
      ],
      "text/plain": [
       "      english_word                          russian_word\n",
       "51264   zabaglione                                десерт\n",
       "51265       zagged                           сворачивать\n",
       "51266        zaire                                  заир\n",
       "51267      zairian                      заирец\\tзаирский\n",
       "51268      zambezi                               замбези\n",
       "...            ...                                   ...\n",
       "51376      zooming  изменять масштаб изображения\\tнаплыв\n",
       "51377        zorch                           прокачивать\n",
       "51378         zulu                      зулус\\tзулусский\n",
       "51379     zwieback                                сухарь\n",
       "51380       zygote                                зигота\n",
       "\n",
       "[117 rows x 2 columns]"
      ]
     },
     "execution_count": 31,
     "metadata": {},
     "output_type": "execute_result"
    }
   ],
   "source": [
    "buf_df = df[df['english_word'].apply(lambda x: 1 if x[:1] == 'z' else 0) == 1]\n",
    "buf_df"
   ]
  },
  {
   "cell_type": "code",
   "execution_count": 33,
   "id": "574fc836",
   "metadata": {},
   "outputs": [
    {
     "data": {
      "text/html": [
       "<div>\n",
       "<style scoped>\n",
       "    .dataframe tbody tr th:only-of-type {\n",
       "        vertical-align: middle;\n",
       "    }\n",
       "\n",
       "    .dataframe tbody tr th {\n",
       "        vertical-align: top;\n",
       "    }\n",
       "\n",
       "    .dataframe thead th {\n",
       "        text-align: right;\n",
       "    }\n",
       "</style>\n",
       "<table border=\"1\" class=\"dataframe\">\n",
       "  <thead>\n",
       "    <tr style=\"text-align: right;\">\n",
       "      <th></th>\n",
       "      <th>english_word</th>\n",
       "      <th>russian_word</th>\n",
       "    </tr>\n",
       "  </thead>\n",
       "  <tbody>\n",
       "    <tr>\n",
       "      <th>51356</th>\n",
       "      <td>zombies</td>\n",
       "      <td>зомби</td>\n",
       "    </tr>\n",
       "  </tbody>\n",
       "</table>\n",
       "</div>"
      ],
      "text/plain": [
       "      english_word russian_word\n",
       "51356      zombies        зомби"
      ]
     },
     "execution_count": 33,
     "metadata": {},
     "output_type": "execute_result"
    }
   ],
   "source": [
    "buf_df.sample()"
   ]
  },
  {
   "cell_type": "code",
   "execution_count": 37,
   "id": "d1647418",
   "metadata": {},
   "outputs": [],
   "source": [
    "z = buf_df.sample().index"
   ]
  },
  {
   "cell_type": "code",
   "execution_count": 42,
   "id": "e52a4ec7",
   "metadata": {},
   "outputs": [],
   "source": [
    "used_words = []"
   ]
  },
  {
   "cell_type": "code",
   "execution_count": 44,
   "id": "b96606b2",
   "metadata": {},
   "outputs": [],
   "source": [
    "used_words.append(z)"
   ]
  },
  {
   "cell_type": "code",
   "execution_count": 45,
   "id": "8c144aaa",
   "metadata": {},
   "outputs": [
    {
     "data": {
      "text/plain": [
       "[Int64Index([51298], dtype='int64')]"
      ]
     },
     "execution_count": 45,
     "metadata": {},
     "output_type": "execute_result"
    }
   ],
   "source": [
    "used_words"
   ]
  },
  {
   "cell_type": "markdown",
   "id": "51fa6b47",
   "metadata": {},
   "source": [
    "# Начало"
   ]
  },
  {
   "cell_type": "code",
   "execution_count": 51,
   "id": "cf5694c5",
   "metadata": {},
   "outputs": [
    {
     "name": "stdout",
     "output_type": "stream",
     "text": [
      "Введите слово:\n",
      "dog\n"
     ]
    }
   ],
   "source": [
    "print('Введите слово:')\n",
    "user_word = input()"
   ]
  },
  {
   "cell_type": "markdown",
   "id": "98ba737f",
   "metadata": {},
   "source": [
    "## Проверить, что слово существует и показать его перевод"
   ]
  },
  {
   "cell_type": "code",
   "execution_count": 76,
   "id": "3406add3",
   "metadata": {},
   "outputs": [
    {
     "data": {
      "text/plain": [
       "13336"
      ]
     },
     "execution_count": 76,
     "metadata": {},
     "output_type": "execute_result"
    }
   ],
   "source": [
    "df[df['english_word'] == user_word]['russian_word'].index[0]"
   ]
  },
  {
   "cell_type": "code",
   "execution_count": 73,
   "id": "2b8f2cb1",
   "metadata": {},
   "outputs": [
    {
     "name": "stdout",
     "output_type": "stream",
     "text": [
      "Отличное слово! dog - это собака\tсобачий\n"
     ]
    }
   ],
   "source": [
    "try:\n",
    "    #df[df['english_word'] == user_word]\n",
    "    print(f'Отличное слово! {user_word} - это ' + df[df['english_word'] == user_word]['russian_word'].values[0])\n",
    "except:\n",
    "    print('Такого слова нет')"
   ]
  },
  {
   "cell_type": "markdown",
   "id": "f343063b",
   "metadata": {},
   "source": [
    "## Последняя буква"
   ]
  },
  {
   "cell_type": "code",
   "execution_count": 74,
   "id": "e76009e2",
   "metadata": {
    "scrolled": true
   },
   "outputs": [
    {
     "name": "stdout",
     "output_type": "stream",
     "text": [
      "Последнаяя буква: g\n"
     ]
    }
   ],
   "source": [
    "last_letter = user_word.lower()[-1:]\n",
    "print('Последнаяя буква: ' + user_word.lower()[-1:])"
   ]
  },
  {
   "cell_type": "markdown",
   "id": "06467f5c",
   "metadata": {},
   "source": [
    "## Добавить слово в список использованных"
   ]
  },
  {
   "cell_type": "code",
   "execution_count": 87,
   "id": "e4d68018",
   "metadata": {},
   "outputs": [
    {
     "data": {
      "text/plain": [
       "13336"
      ]
     },
     "execution_count": 87,
     "metadata": {},
     "output_type": "execute_result"
    }
   ],
   "source": [
    "z = df[df['english_word'] == user_word].index[0]\n",
    "z"
   ]
  },
  {
   "cell_type": "code",
   "execution_count": 89,
   "id": "6d616751",
   "metadata": {},
   "outputs": [],
   "source": [
    "buf_df = df[df['english_word'].apply(lambda x: 1 if x[:1] == last_letter else 0) == 1]\n",
    "z = buf_df.sample()\n",
    "#used_words.append(z)"
   ]
  },
  {
   "cell_type": "code",
   "execution_count": 95,
   "id": "fdf14d7a",
   "metadata": {},
   "outputs": [
    {
     "data": {
      "text/plain": [
       "'gracios'"
      ]
     },
     "execution_count": 95,
     "metadata": {},
     "output_type": "execute_result"
    }
   ],
   "source": [
    "z['english_word'].values[0]"
   ]
  },
  {
   "cell_type": "code",
   "execution_count": null,
   "id": "75de5a32",
   "metadata": {},
   "outputs": [],
   "source": []
  },
  {
   "cell_type": "code",
   "execution_count": 84,
   "id": "65c79dcc",
   "metadata": {},
   "outputs": [
    {
     "data": {
      "text/plain": [
       "[Int64Index([51298], dtype='int64'),\n",
       " Int64Index([17909], dtype='int64'),\n",
       " Int64Index([18155], dtype='int64')]"
      ]
     },
     "execution_count": 84,
     "metadata": {},
     "output_type": "execute_result"
    }
   ],
   "source": [
    "used_words"
   ]
  },
  {
   "cell_type": "code",
   "execution_count": 53,
   "id": "ba106da3",
   "metadata": {},
   "outputs": [
    {
     "data": {
      "text/html": [
       "<div>\n",
       "<style scoped>\n",
       "    .dataframe tbody tr th:only-of-type {\n",
       "        vertical-align: middle;\n",
       "    }\n",
       "\n",
       "    .dataframe tbody tr th {\n",
       "        vertical-align: top;\n",
       "    }\n",
       "\n",
       "    .dataframe thead th {\n",
       "        text-align: right;\n",
       "    }\n",
       "</style>\n",
       "<table border=\"1\" class=\"dataframe\">\n",
       "  <thead>\n",
       "    <tr style=\"text-align: right;\">\n",
       "      <th></th>\n",
       "      <th>english_word</th>\n",
       "      <th>russian_word</th>\n",
       "    </tr>\n",
       "  </thead>\n",
       "  <tbody>\n",
       "    <tr>\n",
       "      <th>17585</th>\n",
       "      <td>gab</td>\n",
       "      <td>болтать\\tболтовня</td>\n",
       "    </tr>\n",
       "    <tr>\n",
       "      <th>17586</th>\n",
       "      <td>gabardine</td>\n",
       "      <td>габардин\\tгабардиновый</td>\n",
       "    </tr>\n",
       "    <tr>\n",
       "      <th>17587</th>\n",
       "      <td>gabarit</td>\n",
       "      <td>габарит</td>\n",
       "    </tr>\n",
       "    <tr>\n",
       "      <th>17588</th>\n",
       "      <td>gabby</td>\n",
       "      <td>болтливый</td>\n",
       "    </tr>\n",
       "    <tr>\n",
       "      <th>17589</th>\n",
       "      <td>gable</td>\n",
       "      <td>щипец</td>\n",
       "    </tr>\n",
       "    <tr>\n",
       "      <th>...</th>\n",
       "      <td>...</td>\n",
       "      <td>...</td>\n",
       "    </tr>\n",
       "    <tr>\n",
       "      <th>18711</th>\n",
       "      <td>gyrate</td>\n",
       "      <td>вращаться</td>\n",
       "    </tr>\n",
       "    <tr>\n",
       "      <th>18712</th>\n",
       "      <td>gyration</td>\n",
       "      <td>вращение</td>\n",
       "    </tr>\n",
       "    <tr>\n",
       "      <th>18713</th>\n",
       "      <td>gyrfalcon</td>\n",
       "      <td>кречет</td>\n",
       "    </tr>\n",
       "    <tr>\n",
       "      <th>18714</th>\n",
       "      <td>gyrocompass</td>\n",
       "      <td>гирокомпас</td>\n",
       "    </tr>\n",
       "    <tr>\n",
       "      <th>18715</th>\n",
       "      <td>gyroscope</td>\n",
       "      <td>гироскоп</td>\n",
       "    </tr>\n",
       "  </tbody>\n",
       "</table>\n",
       "<p>1131 rows × 2 columns</p>\n",
       "</div>"
      ],
      "text/plain": [
       "      english_word            russian_word\n",
       "17585          gab       болтать\\tболтовня\n",
       "17586    gabardine  габардин\\tгабардиновый\n",
       "17587      gabarit                 габарит\n",
       "17588        gabby               болтливый\n",
       "17589        gable                   щипец\n",
       "...            ...                     ...\n",
       "18711       gyrate               вращаться\n",
       "18712     gyration                вращение\n",
       "18713    gyrfalcon                  кречет\n",
       "18714  gyrocompass              гирокомпас\n",
       "18715    gyroscope                гироскоп\n",
       "\n",
       "[1131 rows x 2 columns]"
      ]
     },
     "execution_count": 53,
     "metadata": {},
     "output_type": "execute_result"
    }
   ],
   "source": [
    "buf_df = df[df['english_word'].apply(lambda x: 1 if x[:1] == last_letter else 0) == 1]\n",
    "buf_df"
   ]
  },
  {
   "cell_type": "code",
   "execution_count": 56,
   "id": "8d18a247",
   "metadata": {},
   "outputs": [
    {
     "data": {
      "text/html": [
       "<div>\n",
       "<style scoped>\n",
       "    .dataframe tbody tr th:only-of-type {\n",
       "        vertical-align: middle;\n",
       "    }\n",
       "\n",
       "    .dataframe tbody tr th {\n",
       "        vertical-align: top;\n",
       "    }\n",
       "\n",
       "    .dataframe thead th {\n",
       "        text-align: right;\n",
       "    }\n",
       "</style>\n",
       "<table border=\"1\" class=\"dataframe\">\n",
       "  <thead>\n",
       "    <tr style=\"text-align: right;\">\n",
       "      <th></th>\n",
       "      <th>english_word</th>\n",
       "      <th>russian_word</th>\n",
       "    </tr>\n",
       "  </thead>\n",
       "  <tbody>\n",
       "    <tr>\n",
       "      <th>18052</th>\n",
       "      <td>glaze</td>\n",
       "      <td>глазировать\\tглазурь</td>\n",
       "    </tr>\n",
       "  </tbody>\n",
       "</table>\n",
       "</div>"
      ],
      "text/plain": [
       "      english_word          russian_word\n",
       "18052        glaze  глазировать\\tглазурь"
      ]
     },
     "execution_count": 56,
     "metadata": {},
     "output_type": "execute_result"
    }
   ],
   "source": [
    "computer_word = buf_df.sample()\n",
    "computer_word"
   ]
  }
 ],
 "metadata": {
  "kernelspec": {
   "display_name": "Python 3",
   "language": "python",
   "name": "python3"
  },
  "language_info": {
   "codemirror_mode": {
    "name": "ipython",
    "version": 3
   },
   "file_extension": ".py",
   "mimetype": "text/x-python",
   "name": "python",
   "nbconvert_exporter": "python",
   "pygments_lexer": "ipython3",
   "version": "3.8.8"
  }
 },
 "nbformat": 4,
 "nbformat_minor": 5
}
